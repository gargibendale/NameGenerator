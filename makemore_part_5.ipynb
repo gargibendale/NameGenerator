{
  "cells": [
    {
      "cell_type": "markdown",
      "id": "700627ef-01bc-4db2-b94d-8c6d22d3b6f7",
      "metadata": {
        "id": "700627ef-01bc-4db2-b94d-8c6d22d3b6f7"
      },
      "source": [
        "## Makemore part: 5"
      ]
    },
    {
      "cell_type": "code",
      "execution_count": 1,
      "id": "732a8c9a-0a53-46cf-8c98-1693001d1abe",
      "metadata": {
        "id": "732a8c9a-0a53-46cf-8c98-1693001d1abe"
      },
      "outputs": [],
      "source": [
        "import torch\n",
        "import torch.nn.functional as F\n",
        "import matplotlib.pyplot as plt\n",
        "%matplotlib inline"
      ]
    },
    {
      "cell_type": "code",
      "execution_count": 2,
      "id": "3d131e6c-de73-4052-a23a-2ede979d88ca",
      "metadata": {
        "colab": {
          "base_uri": "https://localhost:8080/"
        },
        "id": "3d131e6c-de73-4052-a23a-2ede979d88ca",
        "outputId": "c232eed9-98be-45e7-b3e1-377551bb9926"
      },
      "outputs": [
        {
          "output_type": "execute_result",
          "data": {
            "text/plain": [
              "['udhav',\n",
              " 'aranya',\n",
              " 'amirthavarshani',\n",
              " 'atesha',\n",
              " 'thaveesha',\n",
              " 'inchar',\n",
              " 'subaraja',\n",
              " 'nivarshayan']"
            ]
          },
          "metadata": {},
          "execution_count": 2
        }
      ],
      "source": [
        "words = open('/content/shuffled_names1.txt', 'r').read().splitlines()\n",
        "words[:8]"
      ]
    },
    {
      "cell_type": "code",
      "execution_count": 3,
      "id": "49a774dc-e9ca-4f34-9823-9261e39d8254",
      "metadata": {
        "colab": {
          "base_uri": "https://localhost:8080/"
        },
        "id": "49a774dc-e9ca-4f34-9823-9261e39d8254",
        "outputId": "f860a8a0-8e75-4287-87d9-32848469abf1"
      },
      "outputs": [
        {
          "output_type": "stream",
          "name": "stdout",
          "text": [
            "{1: 'a', 2: 'b', 3: 'c', 4: 'd', 5: 'e', 6: 'f', 7: 'g', 8: 'h', 9: 'i', 10: 'j', 11: 'k', 12: 'l', 13: 'm', 14: 'n', 15: 'o', 16: 'p', 17: 'q', 18: 'r', 19: 's', 20: 't', 21: 'u', 22: 'v', 23: 'w', 24: 'x', 25: 'y', 26: 'z', 0: '.'}\n"
          ]
        }
      ],
      "source": [
        "#build the vocabulary of characters and the mappings to/from characters\n",
        "chars = sorted(list(set(''.join(words))))\n",
        "stoi = {s:i+1 for i, s in enumerate(chars)}\n",
        "stoi['.'] = 0\n",
        "itos = {i:s for s, i in stoi.items()}\n",
        "vocab_size = len(itos)\n",
        "print(itos)"
      ]
    },
    {
      "cell_type": "code",
      "execution_count": 4,
      "id": "61273934-5a45-4464-b0f7-5a016bc1b2a2",
      "metadata": {
        "colab": {
          "base_uri": "https://localhost:8080/"
        },
        "id": "61273934-5a45-4464-b0f7-5a016bc1b2a2",
        "outputId": "c507ea67-9bcc-48f4-862a-45e883e73cf6"
      },
      "outputs": [
        {
          "output_type": "stream",
          "name": "stdout",
          "text": [
            "torch.Size([404362, 8]) torch.Size([404362])\n",
            "torch.Size([50327, 8]) torch.Size([50327])\n",
            "torch.Size([50634, 8]) torch.Size([50634])\n"
          ]
        }
      ],
      "source": [
        "# build the dataset\n",
        "block_size = 8# context length: how many characters do we take to predict the next one?\n",
        "\n",
        "def build_dataset(words):\n",
        "  X, Y = [], []\n",
        "  for w in words:\n",
        "\n",
        "    #print(w)\n",
        "    context = [0] * block_size\n",
        "    for ch in w + '.':\n",
        "      ix = stoi[ch]\n",
        "      X.append(context)\n",
        "      Y.append(ix)\n",
        "      #print(''.join(itos[i] for i in context), '--->', itos[ix])\n",
        "      context = context[1:] + [ix] # crop and append\n",
        "\n",
        "  X = torch.tensor(X)\n",
        "  Y = torch.tensor(Y)\n",
        "  print(X.shape, Y.shape)\n",
        "  return X, Y\n",
        "\n",
        "import random\n",
        "random.seed(42)\n",
        "random.shuffle(words)\n",
        "n1 = int(0.8*len(words))\n",
        "n2 = int(0.9*len(words))\n",
        "\n",
        "Xtr, Ytr = build_dataset(words[:n1])\n",
        "Xdev, Ydev = build_dataset(words[n1:n2])\n",
        "Xte, Yte = build_dataset(words[n2:])"
      ]
    },
    {
      "cell_type": "code",
      "execution_count": 5,
      "id": "0eef20b3-cbed-4ed2-b8f4-9fe14dfa45c0",
      "metadata": {
        "colab": {
          "base_uri": "https://localhost:8080/"
        },
        "id": "0eef20b3-cbed-4ed2-b8f4-9fe14dfa45c0",
        "outputId": "5e63d9a6-763d-4633-da48-f4a0956adc84"
      },
      "outputs": [
        {
          "output_type": "stream",
          "name": "stdout",
          "text": [
            "........ ---> c\n",
            ".......c ---> h\n",
            "......ch ---> i\n",
            ".....chi ---> t\n",
            "....chit ---> h\n",
            "...chith ---> r\n",
            "..chithr ---> a\n",
            ".chithra ---> y\n",
            "chithray ---> e\n",
            "hithraye ---> n\n",
            "ithrayen ---> .\n",
            "........ ---> g\n",
            ".......g ---> i\n",
            "......gi ---> r\n",
            ".....gir ---> i\n",
            "....giri ---> j\n",
            "...girij ---> a\n",
            "..girija ---> n\n",
            ".girijan ---> a\n",
            "girijana ---> .\n"
          ]
        }
      ],
      "source": [
        "for x, y in zip(Xtr[:20], Ytr[:20]):\n",
        "    print(''.join(itos[ix.item()] for ix in x), '--->', itos[y.item()])"
      ]
    },
    {
      "cell_type": "code",
      "execution_count": 6,
      "id": "f1011638-4e4f-43f6-83f2-d66e6066dec2",
      "metadata": {
        "id": "f1011638-4e4f-43f6-83f2-d66e6066dec2"
      },
      "outputs": [],
      "source": [
        "# Near copy paste of the layers we have developed in Part 3\n",
        "\n",
        "# -----------------------------------------------------------------------------------------------\n",
        "class Linear:\n",
        "\n",
        "  def __init__(self, fan_in, fan_out, bias=True):\n",
        "    self.weight = torch.randn((fan_in, fan_out)) / fan_in**0.5 # note: kaiming init\n",
        "    self.bias = torch.zeros(fan_out) if bias else None\n",
        "\n",
        "  def __call__(self, x):\n",
        "    self.out = x @ self.weight\n",
        "    if self.bias is not None:\n",
        "      self.out += self.bias\n",
        "    return self.out\n",
        "\n",
        "  def parameters(self):\n",
        "    return [self.weight] + ([] if self.bias is None else [self.bias])\n",
        "\n",
        "# -----------------------------------------------------------------------------------------------\n",
        "class BatchNorm1d:\n",
        "\n",
        "  def __init__(self, dim, eps=1e-5, momentum=0.1):\n",
        "    self.eps = eps\n",
        "    self.momentum = momentum\n",
        "    self.training = True\n",
        "    # parameters (trained with backprop)\n",
        "    self.gamma = torch.ones(dim)\n",
        "    self.beta = torch.zeros(dim)\n",
        "    # buffers (trained with a running 'momentum update')\n",
        "    self.running_mean = torch.zeros(dim)\n",
        "    self.running_var = torch.ones(dim)\n",
        "\n",
        "  def __call__(self, x):\n",
        "    # calculate the forward pass\n",
        "    if self.training:\n",
        "      if x.ndim == 2: #32, 68\n",
        "        dim = 0\n",
        "      elif x.ndim == 3: #32, 4, 68. this update allows the mean to be calculated across 32 x 4 numbers which allows\n",
        "          #the running_mean to be stable and less wiggly. same for running_var\n",
        "        dim = (0,1)\n",
        "      xmean = x.mean(dim, keepdim=True) # batch mean\n",
        "      xvar = x.var(dim, keepdim=True) # batch variance\n",
        "    else:\n",
        "      xmean = self.running_mean\n",
        "      xvar = self.running_var\n",
        "    xhat = (x - xmean) / torch.sqrt(xvar + self.eps) # normalize to unit variance\n",
        "    self.out = self.gamma * xhat + self.beta\n",
        "    # update the buffers\n",
        "    if self.training:\n",
        "      with torch.no_grad():\n",
        "        self.running_mean = (1 - self.momentum) * self.running_mean + self.momentum * xmean\n",
        "        self.running_var = (1 - self.momentum) * self.running_var + self.momentum * xvar\n",
        "    return self.out\n",
        "\n",
        "  def parameters(self):\n",
        "    return [self.gamma, self.beta]\n",
        "\n",
        "# -----------------------------------------------------------------------------------------------\n",
        "class Tanh:\n",
        "  def __call__(self, x):\n",
        "    self.out = torch.tanh(x)\n",
        "    return self.out\n",
        "  def parameters(self):\n",
        "    return []\n",
        "\n",
        "# -----------------------------------------------------------------------------------------------\n",
        "class Embedding:\n",
        "\n",
        "  def __init__(self, num_embeddings, embedding_dim):\n",
        "    self.weight = torch.randn((num_embeddings, embedding_dim))\n",
        "\n",
        "  def __call__(self, IX):\n",
        "    self.out = self.weight[IX]\n",
        "    return self.out\n",
        "\n",
        "  def parameters(self):\n",
        "    return [self.weight]\n",
        "\n",
        "# -----------------------------------------------------------------------------------------------\n",
        "class FlattenConsecutive:\n",
        "\n",
        "  def __init__(self, n):\n",
        "    self.n = n\n",
        "\n",
        "  def __call__(self, x):\n",
        "    B, T, C = x.shape\n",
        "    x = x.view(B, T//self.n, C*self.n)\n",
        "    if x.shape[1] == 1:\n",
        "      x = x.squeeze(1)\n",
        "    self.out = x\n",
        "    return self.out\n",
        "\n",
        "  def parameters(self):\n",
        "    return []\n",
        "\n",
        "# -----------------------------------------------------------------------------------------------\n",
        "class Sequential:\n",
        "\n",
        "  def __init__(self, layers):\n",
        "    self.layers = layers\n",
        "\n",
        "  def __call__(self, x):\n",
        "    for layer in self.layers:\n",
        "      x = layer(x)\n",
        "    self.out = x\n",
        "    return self.out\n",
        "\n",
        "  def parameters(self):\n",
        "    # get parameters of all layers and stretch them out into one list\n",
        "    return [p for layer in self.layers for p in layer.parameters()]\n"
      ]
    },
    {
      "cell_type": "code",
      "execution_count": 7,
      "id": "7221c1a2-df91-44b1-8871-9757eb8cd2e0",
      "metadata": {
        "id": "7221c1a2-df91-44b1-8871-9757eb8cd2e0"
      },
      "outputs": [],
      "source": [
        "torch.manual_seed(42);"
      ]
    },
    {
      "cell_type": "code",
      "execution_count": 8,
      "id": "822c19a4-9542-47a3-a9bd-5377a64fc2d2",
      "metadata": {
        "colab": {
          "base_uri": "https://localhost:8080/"
        },
        "id": "822c19a4-9542-47a3-a9bd-5377a64fc2d2",
        "outputId": "45c86862-638a-42c7-e54d-0115abe3f19b"
      },
      "outputs": [
        {
          "output_type": "stream",
          "name": "stdout",
          "text": [
            "76579\n"
          ]
        }
      ],
      "source": [
        "n_embd = 24 # the dimensionality of the character embedding vectors\n",
        "n_hidden = 128 # the number of neurons in the hidden layer of the MLP\n",
        "\n",
        "layers = [\n",
        "    Embedding(vocab_size, n_embd),\n",
        "    FlattenConsecutive(2), Linear(n_embd * 2, n_hidden, bias=False), BatchNorm1d(n_hidden), Tanh(),\n",
        "    FlattenConsecutive(2), Linear(n_hidden * 2, n_hidden, bias=False), BatchNorm1d(n_hidden), Tanh(),\n",
        "    FlattenConsecutive(2), Linear(n_hidden * 2, n_hidden, bias=False), BatchNorm1d(n_hidden), Tanh(),\n",
        "    #Linear(n_embd * block_size, n_hidden, bias=False), BatchNorm1d(n_hidden), Tanh(),\n",
        "    Linear(           n_hidden, vocab_size)\n",
        "]\n",
        "\n",
        "model = Sequential(layers)\n",
        "\n",
        "with torch.no_grad():\n",
        "  # last layer: make less confident\n",
        "  # layers[-1].gamma *= 0.1\n",
        "  model.layers[-1].weight *= 0.1\n",
        "  # all other layers: apply gain\n",
        "  # for layer in layers[:-1]:\n",
        "  #   if isinstance(layer, Linear):\n",
        "  #     layer.weight *= 1.0 #5/3\n",
        "\n",
        "parameters = model.parameters()\n",
        "print(sum(p.nelement() for p in parameters)) # number of parameters in total\n",
        "for p in parameters:\n",
        "  p.requires_grad = True"
      ]
    },
    {
      "cell_type": "code",
      "execution_count": 9,
      "id": "bbfdecc0-0076-450f-84a8-f2127739937a",
      "metadata": {
        "colab": {
          "base_uri": "https://localhost:8080/"
        },
        "id": "bbfdecc0-0076-450f-84a8-f2127739937a",
        "outputId": "ad971568-2b24-43e1-ec8e-c0cb2030393b"
      },
      "outputs": [
        {
          "output_type": "stream",
          "name": "stdout",
          "text": [
            "torch.Size([4, 8])\n"
          ]
        },
        {
          "output_type": "execute_result",
          "data": {
            "text/plain": [
              "tensor([[ 0, 25,  8,  1, 20,  8, 21, 14],\n",
              "        [ 0,  0,  0,  0,  0,  0, 19,  9],\n",
              "        [ 0,  0,  0,  0,  1, 19,  9, 18],\n",
              "        [ 0,  0,  0,  0,  0,  0,  0,  0]])"
            ]
          },
          "metadata": {},
          "execution_count": 9
        }
      ],
      "source": [
        "ix = torch.randint(0, Xtr.shape[0], (4, ))\n",
        "Xb, Yb = Xtr[ix], Ytr[ix]\n",
        "logits = model(Xb)\n",
        "print(Xb.shape)\n",
        "Xb"
      ]
    },
    {
      "cell_type": "code",
      "execution_count": 10,
      "id": "bfef6891-5810-47df-a270-44444b3b4e92",
      "metadata": {
        "colab": {
          "base_uri": "https://localhost:8080/"
        },
        "id": "bfef6891-5810-47df-a270-44444b3b4e92",
        "outputId": "04efe0ee-c28f-49ee-d626-49294d5cab65"
      },
      "outputs": [
        {
          "output_type": "stream",
          "name": "stdout",
          "text": [
            "      0/ 200000: 3.2907\n",
            "  10000/ 200000: 1.6238\n",
            "  20000/ 200000: 1.7013\n",
            "  30000/ 200000: 1.5939\n",
            "  40000/ 200000: 2.1512\n",
            "  50000/ 200000: 2.0319\n",
            "  60000/ 200000: 1.8505\n",
            "  70000/ 200000: 1.7561\n",
            "  80000/ 200000: 1.5630\n",
            "  90000/ 200000: 1.9835\n",
            " 100000/ 200000: 1.6204\n",
            " 110000/ 200000: 2.1017\n",
            " 120000/ 200000: 1.6831\n",
            " 130000/ 200000: 1.8140\n",
            " 140000/ 200000: 1.7833\n",
            " 150000/ 200000: 1.7657\n",
            " 160000/ 200000: 1.7605\n",
            " 170000/ 200000: 1.7631\n",
            " 180000/ 200000: 1.7652\n",
            " 190000/ 200000: 1.8927\n"
          ]
        }
      ],
      "source": [
        "# same optimization as last time\n",
        "max_steps = 200000\n",
        "batch_size = 32\n",
        "lossi = []\n",
        "ud = []\n",
        "\n",
        "for i in range(max_steps):\n",
        "\n",
        "  # minibatch construct\n",
        "  ix = torch.randint(0, Xtr.shape[0], (batch_size,))\n",
        "  Xb, Yb = Xtr[ix], Ytr[ix] # batch X,Y\n",
        "\n",
        "  # forward pass\n",
        "  logits = model(Xb)\n",
        "  loss = F.cross_entropy(logits, Yb) # loss function\n",
        "\n",
        "  # backward pass\n",
        "  for p in parameters:\n",
        "    p.grad = None\n",
        "  loss.backward()\n",
        "\n",
        "  # update: simple SGD\n",
        "  lr = 0.1 if i < 150000 else 0.01 # step learning rate decay\n",
        "  for p in parameters:\n",
        "    p.data += -lr * p.grad\n",
        "\n",
        "  # track stats\n",
        "  if i % 10000 == 0: # print every once in a while\n",
        "    print(f'{i:7d}/{max_steps:7d}: {loss.item():.4f}')\n",
        "  lossi.append(loss.log10().item())\n",
        "\n",
        "  # if i >= 1000:\n",
        "  #   break # AFTER_DEBUG: would take out obviously to run full optimization"
      ]
    },
    {
      "cell_type": "code",
      "execution_count": 11,
      "id": "82a6fac1-1b67-43d7-8b67-a8159c97dc62",
      "metadata": {
        "id": "82a6fac1-1b67-43d7-8b67-a8159c97dc62",
        "outputId": "ec6bd2e9-0b48-49ee-d761-369c82c136ba",
        "colab": {
          "base_uri": "https://localhost:8080/"
        }
      },
      "outputs": [
        {
          "output_type": "execute_result",
          "data": {
            "text/plain": [
              "torch.Size([32, 8])"
            ]
          },
          "metadata": {},
          "execution_count": 11
        }
      ],
      "source": [
        "Xb.shape"
      ]
    },
    {
      "cell_type": "code",
      "execution_count": 12,
      "id": "b56496aa-79e2-4598-9432-868c1ac60719",
      "metadata": {
        "id": "b56496aa-79e2-4598-9432-868c1ac60719",
        "outputId": "c9e878b7-8561-485e-aa7a-542558e8f9b1",
        "colab": {
          "base_uri": "https://localhost:8080/"
        }
      },
      "outputs": [
        {
          "output_type": "stream",
          "name": "stdout",
          "text": [
            "Embedding : (32, 8, 24)\n",
            "FlattenConsecutive : (32, 4, 48)\n",
            "Linear : (32, 4, 128)\n",
            "BatchNorm1d : (32, 4, 128)\n",
            "Tanh : (32, 4, 128)\n",
            "FlattenConsecutive : (32, 2, 256)\n",
            "Linear : (32, 2, 128)\n",
            "BatchNorm1d : (32, 2, 128)\n",
            "Tanh : (32, 2, 128)\n",
            "FlattenConsecutive : (32, 256)\n",
            "Linear : (32, 128)\n",
            "BatchNorm1d : (32, 128)\n",
            "Tanh : (32, 128)\n",
            "Linear : (32, 27)\n"
          ]
        }
      ],
      "source": [
        "for layer in model.layers:\n",
        "    print(layer.__class__.__name__, ':', tuple(layer.out.shape))"
      ]
    },
    {
      "cell_type": "code",
      "execution_count": 13,
      "id": "564c171c-f17f-4bee-b070-c9db0043e518",
      "metadata": {
        "id": "564c171c-f17f-4bee-b070-c9db0043e518",
        "outputId": "d22a25aa-e277-441b-b7ec-2ca97f4fe094",
        "colab": {
          "base_uri": "https://localhost:8080/"
        }
      },
      "outputs": [
        {
          "output_type": "execute_result",
          "data": {
            "text/plain": [
              "torch.Size([1, 1, 128])"
            ]
          },
          "metadata": {},
          "execution_count": 13
        }
      ],
      "source": [
        "model.layers[3].running_mean.shape"
      ]
    },
    {
      "cell_type": "code",
      "execution_count": null,
      "id": "dd39d9b6-4724-43c1-b70e-890fc88bcf87",
      "metadata": {
        "id": "dd39d9b6-4724-43c1-b70e-890fc88bcf87"
      },
      "outputs": [],
      "source": [
        "#plt.plot(lossi) ~andrej said delete this monster :)"
      ]
    },
    {
      "cell_type": "code",
      "execution_count": 14,
      "id": "64ac8eab-ae0e-4c48-b5bc-3ad39b3a808a",
      "metadata": {
        "id": "64ac8eab-ae0e-4c48-b5bc-3ad39b3a808a",
        "outputId": "50dc0944-dc39-41d1-b5c7-ca7e2e1606f2",
        "colab": {
          "base_uri": "https://localhost:8080/",
          "height": 447
        }
      },
      "outputs": [
        {
          "output_type": "execute_result",
          "data": {
            "text/plain": [
              "[<matplotlib.lines.Line2D at 0x7f4c83421de0>]"
            ]
          },
          "metadata": {},
          "execution_count": 14
        },
        {
          "output_type": "display_data",
          "data": {
            "text/plain": [
              "<Figure size 640x480 with 1 Axes>"
            ],
            "image/png": "[encoded data removed]"
          },
          "metadata": {}
        }
      ],
      "source": [
        "plt.plot(torch.tensor(lossi).view(-1, 1000).mean(1))"
      ]
    },
    {
      "cell_type": "code",
      "execution_count": 15,
      "id": "e2367f02-5a57-4d4f-928e-e0ab63c9c962",
      "metadata": {
        "id": "e2367f02-5a57-4d4f-928e-e0ab63c9c962"
      },
      "outputs": [],
      "source": [
        "#put layers in eval mode\n",
        "for layer in layers:\n",
        "    layer.training = False"
      ]
    },
    {
      "cell_type": "code",
      "execution_count": 16,
      "id": "5cc6ada5-9403-4385-afb2-632e364faa03",
      "metadata": {
        "id": "5cc6ada5-9403-4385-afb2-632e364faa03",
        "outputId": "e76976bd-242c-4501-d45f-d50b6d1818a8",
        "colab": {
          "base_uri": "https://localhost:8080/"
        }
      },
      "outputs": [
        {
          "output_type": "stream",
          "name": "stdout",
          "text": [
            "train 1.6854639053344727\n",
            "val 1.7740538120269775\n"
          ]
        }
      ],
      "source": [
        "@torch.no_grad() # this decorator disables gradient tracking\n",
        "def split_loss(split):\n",
        "  x,y = {\n",
        "    'train': (Xtr, Ytr),\n",
        "    'val': (Xdev, Ydev),\n",
        "    'test': (Xte, Yte),\n",
        "  }[split]\n",
        "  logits = model(x)\n",
        "  loss = F.cross_entropy(logits, y)\n",
        "  print(split, loss.item())\n",
        "split_loss('train')\n",
        "split_loss('val')"
      ]
    },
    {
      "cell_type": "code",
      "execution_count": 18,
      "id": "c4089651-10d4-4daa-b436-9ea3806e68dc",
      "metadata": {
        "id": "c4089651-10d4-4daa-b436-9ea3806e68dc",
        "outputId": "f3da61d3-f863-4141-9eb4-f4922f9c813b",
        "colab": {
          "base_uri": "https://localhost:8080/"
        }
      },
      "outputs": [
        {
          "output_type": "stream",
          "name": "stdout",
          "text": [
            "pavithra.\n",
            "soshisami.\n",
            "mohit.\n",
            "swali.\n",
            "dinoganathan.\n",
            "yohsotya.\n",
            "jayvini.\n",
            "yarishan.\n",
            "vishanth.\n",
            "poonnan.\n",
            "vaneeshi.\n",
            "saroch.\n",
            "prathvik.\n",
            "uthanya.\n",
            "muthushkar.\n",
            "tanishkumuni.\n",
            "gumayodan.\n",
            "vanurthara.\n",
            "gandham.\n",
            "vineeshan.\n"
          ]
        }
      ],
      "source": [
        "for _ in range(20):\n",
        "\n",
        "    out = []\n",
        "    context = [0] * block_size # initialize with all ...\n",
        "    while True:\n",
        "      # forward pass the neural net\n",
        "      logits = model(torch.tensor([context]))\n",
        "      probs = F.softmax(logits, dim=1)\n",
        "      # sample from the distribution\n",
        "      ix = torch.multinomial(probs, num_samples=1).item()\n",
        "      # shift the context window and track the samples\n",
        "      context = context[1:] + [ix]\n",
        "      out.append(ix)\n",
        "      # if we sample the special '.' token, break\n",
        "      if ix == 0:\n",
        "        break\n",
        "\n",
        "    print(''.join(itos[i] for i in out)) # decode and print the generated word"
      ]
    },
    {
      "cell_type": "code",
      "execution_count": null,
      "id": "ea4db61a-11ad-46ab-9dbf-7b212e0ab1da",
      "metadata": {
        "id": "ea4db61a-11ad-46ab-9dbf-7b212e0ab1da"
      },
      "outputs": [],
      "source": []
    }
  ],
  "metadata": {
    "kernelspec": {
      "display_name": "Python 3",
      "name": "python3"
    },
    "language_info": {
      "codemirror_mode": {
        "name": "ipython",
        "version": 3
      },
      "file_extension": ".py",
      "mimetype": "text/x-python",
      "name": "python",
      "nbconvert_exporter": "python",
      "pygments_lexer": "ipython3",
      "version": "3.12.4"
    },
    "colab": {
      "provenance": [],
      "gpuType": "T4"
    },
    "accelerator": "GPU"
  },
  "nbformat": 4,
  "nbformat_minor": 5
}